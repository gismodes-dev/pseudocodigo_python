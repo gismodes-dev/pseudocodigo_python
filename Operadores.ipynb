{
 "cells": [
  {
   "cell_type": "markdown",
   "id": "f297606c",
   "metadata": {},
   "source": [
    "# Operadores en Python\n",
    "\n",
    "Los operadores pueden ser usados para realizar operaciones en variables o valores. \n",
    "\n",
    "En Python se dividen en los siguientes grupos:\n",
    "\n",
    "- Operadores aritméticos\n",
    "- Operadores de asignación\n",
    "- Operadores de comparación\n",
    "- Operadores lógicos\n",
    "- Operadores de identidad\n",
    "- Operadores de membbresía\n",
    "- Operadores bitwise\n",
    "\n",
    "## Operadores aritméticos\n",
    "\n",
    "Los operadores aritméticos o arithmetic operators son los más comunes que nos podemos encontrar, y nos permiten realizar operaciones aritméticas sencillas, como pueden ser la suma, resta o exponente.\n"
   ]
  },
  {
   "cell_type": "code",
   "execution_count": null,
   "id": "bb30c35d",
   "metadata": {},
   "outputs": [],
   "source": []
  },
  {
   "cell_type": "code",
   "execution_count": null,
   "id": "ef45d29f",
   "metadata": {},
   "outputs": [],
   "source": [
    "x = 10; y = 3\n",
    "print(\"Operadores aritméticos\")\n",
    "print(\"x+y =\", x+y)   #suma\n",
    "print(\"x-y =\", x-y)   #resta\n",
    "print(\"x*y =\", x*y)   #multiplicación\n",
    "print(\"x/y =\", x/y)   # división\n",
    "print(\"x%y =\", x%y)   #Operador módulo, calcula el resto de la división entrera entre dos números\n",
    "print(\"x**y =\", x**y) #Operador exponente o potencia. Eleva el número de la izquierda al valor de la derecha. \n",
    "print(\"x//y =\", x//y) # Calcula el cociente de la división entre los números"
   ]
  },
  {
   "cell_type": "markdown",
   "id": "1a86ec74",
   "metadata": {},
   "source": [
    "### Orden de aplicación\n",
    "\n",
    "Hay prioridad en su aplicación siguiendo lo siguiente:\n",
    "- () Paréntesis\n",
    "- ** Exponente\n",
    "- -x Negación\n",
    "- * / // Multiplicación, División, Cociente, Módulo\n",
    "- + - Suma, Resta"
   ]
  },
  {
   "cell_type": "markdown",
   "id": "af8f9544",
   "metadata": {},
   "source": [
    "## Operadores de Asignación \n",
    "\n",
    "los operadores de asignación o assignment operators nos permiten realizar una operación y almacenar su resultado en la variable inicial. "
   ]
  },
  {
   "cell_type": "code",
   "execution_count": null,
   "id": "2453ddd6",
   "metadata": {},
   "outputs": [],
   "source": [
    "a=7; b=2\n",
    "print(\"Operadores de asignación\")\n",
    "x=a; x+=b;  print(\"x+=\", x)  # x=x+b\n",
    "x=a; x-=b;  print(\"x-=\", x)  # x=x-b\n",
    "x=a; x*=b;  print(\"x*=\", x)  # x=x*b\n",
    "x=a; x/=b;  print(\"x/=\", x)  # x=x/b\n",
    "x=a; x%=b;  print(\"x%=\", x)  # x=x%b\n",
    "x=a; x//=b; print(\"x//=\", x) # x=x//b\n",
    "x=a; x**=b; print(\"x**=\", x) # x=x**b\n",
    "x=a; x&=b;  print(\"x&=\", x)  # x=x&b\n",
    "x=a; x|=b;  print(\"x|=\", x)  # x=x|b\n",
    "x=a; x^=b; print(\"x^=\", x)   # x=x^b\n",
    "x=a; x>>=b; print(\"x>>=\", x) # x=x>>b\n",
    "x=a; x<<=b; print(\"x<<=\", x) # x=x<<b"
   ]
  },
  {
   "cell_type": "markdown",
   "id": "db5f53e0",
   "metadata": {},
   "source": [
    "## Operadores relacionales\n",
    "Los operadores relacionales, o también llamados comparison operators nos permiten saber la relación existente entre dos variables. Se usan para saber si por ejemplo un número es mayor o menor que otro. Dado que estos operadores indican si se cumple o no una operación, el valor que devuelven es True o False"
   ]
  },
  {
   "cell_type": "code",
   "execution_count": null,
   "id": "ba23648b",
   "metadata": {},
   "outputs": [],
   "source": [
    "x=2; y=3\n",
    "print(\"Operadores Relacionales\")\n",
    "#Operador igual\n",
    "print(\"x==y =\", x==y) # Varifica si son iguales\n",
    "#Operador distinto\n",
    "print(\"x!=y =\", x!=y) # Verifica si son distintos\n",
    "#Operador Mayor\n",
    "print(\"x>y  =\", x>y)  #  Verifica si a>b\n",
    "#Operador menor\n",
    "print(\"x<y  =\", x<y)  # Verifica si a<b\n",
    "#Operador Mayor o igual \n",
    "print(\"x>=y =\", x>=y) # Verifica si a>b o a=b\n",
    "#Operador Menor o igual \n",
    "print(\"x<=y =\", x<=y) # Verifica si a<b o a=b"
   ]
  },
  {
   "cell_type": "markdown",
   "id": "cb2370c5",
   "metadata": {},
   "source": [
    "## Operadores Lógicos\n",
    "\n",
    "Los operadores lógicos o logical operators nos permiten trabajar con valores de tipo booleano. Un valor booleano o bool es un tipo que solo puede tomar valores True o False. Por lo tanto, estos operadores nos permiten realizar diferentes operaciones con estos tipos, y su resultado será otro booleano."
   ]
  },
  {
   "cell_type": "code",
   "execution_count": null,
   "id": "2708e3ca",
   "metadata": {},
   "outputs": [],
   "source": [
    "#Operador AND (y), es verdadero si ambos son verdaderos de lo contrario es falso\n",
    "print(True and True)   # \n",
    "#Operador OR (o), es falso solo si ambos son falsos de lo contrario es verdadero\n",
    "print(True or True)   # \n",
    "#Operador negación (not), niega una sentencia si es verdadera se vuelve false y si es falsa pasa a verdadera\n",
    "print(not True) "
   ]
  },
  {
   "cell_type": "markdown",
   "id": "8cafc2f2",
   "metadata": {},
   "source": [
    "Se puede hacer combinación entre operadores lógicos, por ejemplo"
   ]
  },
  {
   "cell_type": "code",
   "execution_count": null,
   "id": "ad731a82",
   "metadata": {},
   "outputs": [],
   "source": [
    "print(True and True and False)\n",
    "#     |-----------|\n",
    "#           True  and  False\n",
    "#         |------------------|\n",
    "#   "
   ]
  },
  {
   "cell_type": "markdown",
   "id": "cf275ee1",
   "metadata": {},
   "source": [
    "## Operadores de Identidad\n",
    "\n",
    "El operador de identidad o identity operator ``is`` nos indica si dos variables hacen referencia al mismo objeto. \n",
    "\n",
    "### Operador ``is``\n",
    "Comprueba si dos variables hacen referencia a el mismo objeto. \n",
    "Ejemplo:"
   ]
  },
  {
   "cell_type": "code",
   "execution_count": null,
   "id": "a73f6d55",
   "metadata": {},
   "outputs": [],
   "source": [
    "a = 10\n",
    "b = 10\n",
    "\n",
    "print(a is b) \n",
    "\n",
    "print(id(a)) # 4397849536\n",
    "print(id(b)) # 4397849536"
   ]
  },
  {
   "cell_type": "markdown",
   "id": "7507c27c",
   "metadata": {},
   "source": [
    "No quiere decir que si dos variables son iguales los objetos lo son. "
   ]
  },
  {
   "cell_type": "code",
   "execution_count": null,
   "id": "8c9b479e",
   "metadata": {},
   "outputs": [],
   "source": [
    "a = [1, 2, 3]\n",
    "b = [1, 2, 3]\n",
    "\n",
    "print(a == b) # True\n",
    "print(a is b) # False"
   ]
  },
  {
   "cell_type": "markdown",
   "id": "fa53f66e",
   "metadata": {},
   "source": [
    "### Operador ``is not``\n",
    "Lo contrario al ``is``\n",
    "Ejemplo:"
   ]
  },
  {
   "cell_type": "code",
   "execution_count": null,
   "id": "317f05ea",
   "metadata": {},
   "outputs": [],
   "source": [
    "# Python crea dos objetos diferentes, uno\n",
    "# para cada lista. Las listas son mutables.\n",
    "a = [1, 2, 3]\n",
    "b = [1, 2, 3]\n",
    "\n",
    "print(a is not b) # True\n",
    "\n",
    "# Python reutiliza el objeto que almacena 5\n",
    "# por lo que ambas variables apuntan a el mismo\n",
    "a = 5\n",
    "b = 5\n",
    "\n",
    "print(a is not b) # False"
   ]
  },
  {
   "cell_type": "markdown",
   "id": "26e2be48",
   "metadata": {},
   "source": [
    "## Operadores de membresía\n",
    "Los operadores de membresía o membership operators son operadores que nos permiten saber si un elemento esta contenido en una secuencia. \n",
    "\n",
    "### Operador ``in``\n",
    "Nos permite ver si un elemento esta contenido dentro de una secuencia, como podría ser una lista.\n",
    "\n"
   ]
  },
  {
   "cell_type": "code",
   "execution_count": null,
   "id": "bfd0cc18",
   "metadata": {},
   "outputs": [],
   "source": [
    "print(3 in [1, 2, 3])\n",
    "# True\n",
    "\n",
    "print(3 in 3) # Error! TypeError\n",
    "\n",
    "print([1, 2] in [4, [1, 2], 7])"
   ]
  },
  {
   "cell_type": "markdown",
   "id": "1c6113c4",
   "metadata": {},
   "source": [
    "### Operador `` not in``\n",
    "El operador not in realiza lo contrario al operador in"
   ]
  },
  {
   "cell_type": "code",
   "execution_count": null,
   "id": "5e1aee18",
   "metadata": {},
   "outputs": [],
   "source": [
    "print(3 not in [1, 2, 4, 5])\n",
    "# True"
   ]
  },
  {
   "cell_type": "markdown",
   "id": "2930cf88",
   "metadata": {},
   "source": [
    "## Operadores Bitwise\n",
    "\n",
    "Los operadores a nivel de bit o bitwise operators son operadores que actúan sobre números enteros pero usando su representación binaria. \n"
   ]
  },
  {
   "cell_type": "code",
   "execution_count": null,
   "id": "ce9ba03d",
   "metadata": {},
   "outputs": [],
   "source": [
    "# Sistema decimal\n",
    "# 7264\n",
    "# 7-> En realidad vale 7*1000 = 7000\n",
    "#  2-> En relidad vale 2*100  = 200\n",
    "#   6-> En reaidad vale 6*10  = 60\n",
    "#     4 En realidad vale 4*1  = 4\n",
    "#                           +---------\n",
    "#           Sumando todo:       7264\n",
    "\n",
    "\n",
    "# Sistema binario\n",
    "# 11011\n",
    "# 1->  En realidad vale 1*16    = 16\n",
    "#  1->  En realidad vale 1*8    = 8\n",
    "#    0->  En realidad vale 1*4  = 0\n",
    "#     1->  En realidad vale 1*2 = 2\n",
    "#      1->  En realidad vle 1*1 = 1\n",
    "#                           +---------\n",
    "#          Sumando todo          27\n",
    "\n",
    "print(bin(27))"
   ]
  },
  {
   "cell_type": "markdown",
   "id": "5e972101",
   "metadata": {},
   "source": [
    "### Operador ``&``\n",
    "\n"
   ]
  }
 ],
 "metadata": {
  "kernelspec": {
   "display_name": "Python 3 (ipykernel)",
   "language": "python",
   "name": "python3"
  },
  "language_info": {
   "codemirror_mode": {
    "name": "ipython",
    "version": 3
   },
   "file_extension": ".py",
   "mimetype": "text/x-python",
   "name": "python",
   "nbconvert_exporter": "python",
   "pygments_lexer": "ipython3",
   "version": "3.9.7"
  }
 },
 "nbformat": 4,
 "nbformat_minor": 5
}
