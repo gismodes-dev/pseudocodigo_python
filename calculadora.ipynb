{
 "cells": [
  {
   "cell_type": "code",
   "execution_count": null,
   "id": "186a2c80",
   "metadata": {},
   "outputs": [
    {
     "name": "stdout",
     "output_type": "stream",
     "text": [
      "Opciones\n",
      "    Ingrese '+' para sumar dos numeros\n",
      "    Ingrese '-' para restar dos numeros\n",
      "    Ingrese '*' para multiplicar dos numeros\n",
      "    Ingrese '/' para dividir dos numeros\n",
      "    Ingrese 'salir' para finalizar\n"
     ]
    }
   ],
   "source": [
    "#Calculadora básica en Python\n",
    "while True:\n",
    "    print(\"\"\"Opciones\n",
    "    Ingrese '+' para sumar dos numeros\n",
    "    Ingrese '-' para restar dos numeros\n",
    "    Ingrese '*' para multiplicar dos numeros\n",
    "    Ingrese '/' para dividir dos numeros\n",
    "    Ingrese 'salir' para finalizar\"\"\")\n",
    "\n",
    "    teclado=input(\":\")\n",
    "\n",
    "    if teclado==\"salir\" or teclado==\"Salir\":\n",
    "        break\n",
    "    elif teclado==\"+\":\n",
    "        num1=float(input(\"Ingrese un numero:\"))\n",
    "        num2=float(input(\"Ingrese otro numero:\"))\n",
    "        result=str(num1+num2)\n",
    "        print(\"Respuesta: \"+result)\n",
    "    elif teclado==\"-\":\n",
    "        num1=float(input(\"Ingrese un numero:\"))\n",
    "        num2=float(input(\"Ingrese otro numero:\"))\n",
    "        result=str(num1-num2)\n",
    "        print(\"Respuesta: \"+result)\n",
    "    elif teclado==\"*\":\n",
    "        num1=float(input(\"Ingrese un numero:\"))\n",
    "        num2=float(input(\"Ingrese otro numero:\"))\n",
    "        result=str(num1*num2)\n",
    "        print(\"Respuesta: \"+result)\n",
    "    elif teclado==\"/\":\n",
    "        try:\n",
    "            num1=float(input(\"Ingrese un numero:\"))\n",
    "            num2=float(input(\"Ingrese otro numero:\"))\n",
    "            result=str(num1/num2)\n",
    "            print(\"Respuesta: \"+result)\n",
    "        except ZeroDivisionError:\n",
    "            print(\"Math Error: Division por 0\")\n",
    "    elif teclado==\"%\":\n",
    "        try:\n",
    "            num1=float(input(\"Ingrese un numero:\"))\n",
    "            num2=float(input(\"Ingrese otro numero:\"))\n",
    "            result=str(int(num1%num2))\n",
    "            print(\"Respuesta: \"+result)\n",
    "        except ZeroDivisionError:\n",
    "            print(\"Math Error: Division por 0\")\n",
    "    else:\n",
    "        print(\"Opcion inválida\")"
   ]
  },
  {
   "cell_type": "code",
   "execution_count": null,
   "id": "c0a01ca2",
   "metadata": {},
   "outputs": [],
   "source": []
  },
  {
   "cell_type": "code",
   "execution_count": null,
   "id": "01d69464",
   "metadata": {},
   "outputs": [],
   "source": []
  }
 ],
 "metadata": {
  "kernelspec": {
   "display_name": "Python 3 (ipykernel)",
   "language": "python",
   "name": "python3"
  },
  "language_info": {
   "codemirror_mode": {
    "name": "ipython",
    "version": 3
   },
   "file_extension": ".py",
   "mimetype": "text/x-python",
   "name": "python",
   "nbconvert_exporter": "python",
   "pygments_lexer": "ipython3",
   "version": "3.9.7"
  }
 },
 "nbformat": 4,
 "nbformat_minor": 5
}
