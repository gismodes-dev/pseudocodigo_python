{
 "cells": [
  {
   "cell_type": "markdown",
   "id": "e1a9da0b",
   "metadata": {},
   "source": [
    "# Principios de Python\n",
    "\n",
    "# Sintaxis\n",
    "\n",
    "### Identación\n",
    "Son los espacios que se deben dejar en las líneas de código. Mientras que en otros lenguajes esto es solo por motivos estéticos en Python este es muy **importante. "
   ]
  },
  {
   "cell_type": "markdown",
   "id": "3d4ffe78",
   "metadata": {},
   "source": [
    " Ejemplo: \n"
   ]
  },
  {
   "cell_type": "code",
   "execution_count": null,
   "id": "b843a073",
   "metadata": {},
   "outputs": [],
   "source": [
    "if True:\n",
    "   print(\"True\") \n",
    "    \n",
    "if 5 > 2:\n",
    "   print(\"Five is greater than two!\") "
   ]
  },
  {
   "cell_type": "markdown",
   "id": "d217009d",
   "metadata": {},
   "source": [
    "Error de sintaxis:"
   ]
  },
  {
   "cell_type": "code",
   "execution_count": null,
   "id": "4b0ac347",
   "metadata": {},
   "outputs": [],
   "source": [
    "if 5 > 2:\n",
    "print(\"Five is greater than two!\") "
   ]
  },
  {
   "cell_type": "markdown",
   "id": "ec6fefe0",
   "metadata": {},
   "source": [
    "Otro error "
   ]
  },
  {
   "cell_type": "code",
   "execution_count": null,
   "id": "55c0adf8",
   "metadata": {},
   "outputs": [],
   "source": [
    "if 5 > 2:\n",
    " print(\"Five is greater than two!\")\n",
    "        print(\"Five is greater than two!\")"
   ]
  },
  {
   "cell_type": "markdown",
   "id": "c7e16d0f",
   "metadata": {},
   "source": [
    "### Comentarios\n",
    "\n",
    "- Pueden ser usados para explicar el código de Python.\n",
    "- Los comentarios pueden ser usados para hacer el código más legible\n",
    "- Los comentarios pueden prevenir la ejecución de código cuando está en prueba. \n",
    "\n",
    "Creando un comentario que comienza con <span style=\"color:red\">#</span>\n",
    "\n",
    "Ejemplo:"
   ]
  },
  {
   "cell_type": "code",
   "execution_count": null,
   "id": "936660c5",
   "metadata": {},
   "outputs": [],
   "source": [
    "#Esto es un comentario\n",
    "print(\"Hello, World!\")"
   ]
  },
  {
   "cell_type": "markdown",
   "id": "60a4f272",
   "metadata": {},
   "source": [
    "Comentario al final de una línea"
   ]
  },
  {
   "cell_type": "code",
   "execution_count": null,
   "id": "743d544e",
   "metadata": {},
   "outputs": [],
   "source": [
    "print(\"Hello, World!\") #This is a comment"
   ]
  },
  {
   "cell_type": "markdown",
   "id": "da8cdbdd",
   "metadata": {},
   "source": [
    "Para prevenir la ejecución de un segmento de código"
   ]
  },
  {
   "cell_type": "code",
   "execution_count": null,
   "id": "694013d2",
   "metadata": {},
   "outputs": [],
   "source": [
    "#print(\"Hello, World!\")\n",
    "print(\"Cheers, Mate!\")"
   ]
  },
  {
   "cell_type": "markdown",
   "id": "4645618d",
   "metadata": {},
   "source": [
    "Multiple líneas de comentarios"
   ]
  },
  {
   "cell_type": "code",
   "execution_count": null,
   "id": "9104d1ac",
   "metadata": {},
   "outputs": [],
   "source": [
    "\"\"\"\n",
    "This is a comment\n",
    "written in\n",
    "more than just one line\n",
    "\"\"\"\n",
    "print(\"Hello, World!\")"
   ]
  },
  {
   "cell_type": "markdown",
   "id": "5cad45aa",
   "metadata": {},
   "source": [
    "### Palabras reservadas en Python\n",
    "\n",
    "Son aquellas palabras que *Nunca* se deben usar para nombrar variables o trabajar sobre ellas."
   ]
  },
  {
   "cell_type": "code",
   "execution_count": null,
   "id": "fad2dfae",
   "metadata": {},
   "outputs": [],
   "source": [
    "import keyword\n",
    "print(keyword.kwlist)"
   ]
  },
  {
   "cell_type": "markdown",
   "id": "26ddabd5",
   "metadata": {},
   "source": [
    "## Variables, expresiones y sentencias\n",
    "\n",
    "### Nombres de variables y palabras claves\n",
    "Los nombre de las variables para ser nombradas en Python y cualquier otro lenguaje deben seguir estas reglas:\n",
    "1. Son secuencias arbitrariamente largas de letras y dígitos.\n",
    "2. La secuencia debe empezar con una letra nunca con un número. \n",
    "3. Además de a..z, y A..Z, el guión bajo (_) es una letra.\n",
    "\n",
    "Adicionalmente se deben seleccionar nombres significativos que de idea de para que se va a usar dicha variable. Aunque es permitido usar letras mayúsculas, por convencion no se recomienda. Debe tener cuidado entre mayúsculas y minúsculas, Python toma como diferentes variables como por ejemplo ``Pedro`` y ``pedro``. \n",
    "\n",
    "El carácter subrayado (_) puede aparecer en un nombre. A menudo se usa en nombres con múltiples palabras, tales como ``mi_nombre`` ́ó ``precio_de_la_porcelana_en_china``.\n",
    "\n",
    "Hay algunas situaciones en las que los nombres que comienzan con un guión tienen un significado especial, por lo que una regla segura para los principiantes es empezar todos los nombres con una letra que no sea un guión.\n",
    "\n",
    "Las variables NO deben incluir espacios o caracteres especiales (*,-,/,(,), entre otros)"
   ]
  },
  {
   "cell_type": "code",
   "execution_count": null,
   "id": "6c1df423",
   "metadata": {},
   "outputs": [],
   "source": [
    "myvar = \"John\"\n",
    "my_var = \"John\"\n",
    "_my_var = \"John\"\n",
    "myVar = \"John\"\n",
    "MYVAR = \"John\"\n",
    "myvar2 = \"John\""
   ]
  },
  {
   "cell_type": "markdown",
   "id": "452910e2",
   "metadata": {},
   "source": [
    "Errores al declarar variables, ejemplo:"
   ]
  },
  {
   "cell_type": "code",
   "execution_count": null,
   "id": "0e84baef",
   "metadata": {},
   "outputs": [],
   "source": [
    "2myvar = \"John\"\n",
    "my-var = \"John\"\n",
    "my var = \"John\""
   ]
  },
  {
   "cell_type": "markdown",
   "id": "1c76e3df",
   "metadata": {},
   "source": [
    "### Valores y Tipos de Datos\n",
    "\n",
    "#### Creación de variables\n",
    "En Python no hay un comando para declarar variables. Una variable es creada al momento en que se asigna un valor a ella. \n",
    "\n",
    "Ejemplo:"
   ]
  },
  {
   "cell_type": "code",
   "execution_count": null,
   "id": "4afba71e",
   "metadata": {},
   "outputs": [],
   "source": [
    "x = 5\n",
    "y = \"John\"\n",
    "print(x)\n",
    "print(y)"
   ]
  },
  {
   "cell_type": "markdown",
   "id": "6b9fd3cb",
   "metadata": {},
   "source": [
    "Si una variable no necesita ser declarada con un tipo en particular y puede ser cambiada incluso despúes de declararla. (No es tan sencillo en otros lenguajes)"
   ]
  },
  {
   "cell_type": "code",
   "execution_count": null,
   "id": "848acf22",
   "metadata": {},
   "outputs": [],
   "source": [
    "x = 4       # x en un tipo int\n",
    "x = \"Sally\" # x es ahora un tipo str\n",
    "print(x)"
   ]
  },
  {
   "cell_type": "markdown",
   "id": "3bf73946",
   "metadata": {},
   "source": [
    "Si se quiere especificar el tipo de variable, esto se puede hacer con \"casting\""
   ]
  },
  {
   "cell_type": "code",
   "execution_count": null,
   "id": "11ea90b7",
   "metadata": {},
   "outputs": [],
   "source": [
    "x = str(3)    # x será un '3'\n",
    "y = int(3)    # y será un 3\n",
    "z = float(3)  # z será un 3.0"
   ]
  },
  {
   "cell_type": "markdown",
   "id": "758871de",
   "metadata": {},
   "source": [
    "#### Ingresar una variable\n",
    "Para ingresar una variable se usa la función ``input()``. Esta función permite solicitar el ingreso por parte del usuario de un valor y asignarlo a una variable. "
   ]
  },
  {
   "cell_type": "code",
   "execution_count": null,
   "id": "2f372432",
   "metadata": {},
   "outputs": [],
   "source": [
    "nombre= input(\"Ingrese su nombre: \")\n",
    "\n",
    "print(nombre)"
   ]
  },
  {
   "cell_type": "markdown",
   "id": "72312b4f",
   "metadata": {},
   "source": [
    "#### Obtener el tipo de dato\n",
    "Para obtener el tipo de datos de una variable se usa la función ``type()``. \n",
    "Ejemplo:"
   ]
  },
  {
   "cell_type": "code",
   "execution_count": null,
   "id": "864a5fb1",
   "metadata": {},
   "outputs": [],
   "source": [
    "x = 5\n",
    "y = \"John\"\n",
    "print(type(x))\n",
    "print(type(y))"
   ]
  },
  {
   "cell_type": "markdown",
   "id": "77e22325",
   "metadata": {},
   "source": [
    "#### Variables tipo string\n",
    "Las variables tipo string pueden ser declaradas con comillas simples o comillas dobles. \n",
    "Ejemplo:"
   ]
  },
  {
   "cell_type": "code",
   "execution_count": null,
   "id": "9ccf5916",
   "metadata": {},
   "outputs": [],
   "source": [
    "x = \"John\"\n",
    "# es lo mismo que\n",
    "x = 'John'"
   ]
  },
  {
   "cell_type": "markdown",
   "id": "c88218f8",
   "metadata": {},
   "source": [
    "#### Sensibilidad a mayúsculas o minúsculas\n",
    "Las variables son sensibles a las mayúsculas por tanto: si se crean dos variables que parecen iguales pero que cambian en cuanto a mayúsculas y minúsculas estas variables son diferentes. \n",
    "\n",
    "Ejemplo:"
   ]
  },
  {
   "cell_type": "code",
   "execution_count": null,
   "id": "c5c8c515",
   "metadata": {},
   "outputs": [],
   "source": [
    "a = 4\n",
    "A = \"Sally\"\n",
    "#A es diferente a a y no se sobreescribe"
   ]
  },
  {
   "cell_type": "markdown",
   "id": "420da8a4",
   "metadata": {},
   "source": [
    "#### Asignación de multiples variables\n",
    "Python permite asignar valores a multiples varaibles en una sola línea.\n",
    "\n",
    "Ejemplo:"
   ]
  },
  {
   "cell_type": "code",
   "execution_count": null,
   "id": "c4ad4388",
   "metadata": {},
   "outputs": [],
   "source": [
    "x, y, z = \"Orange\", \"Banana\", \"Cherry\"\n",
    "print(x)\n",
    "print(y)\n",
    "print(z)"
   ]
  },
  {
   "cell_type": "markdown",
   "id": "dc3f1c2d",
   "metadata": {},
   "source": [
    "#### Un valor para multiples variables\n",
    "También se puede asignar el mismo valor a varias variables en una sola línea. \n",
    "\n",
    "Ejemplo:"
   ]
  },
  {
   "cell_type": "code",
   "execution_count": null,
   "id": "70ad9811",
   "metadata": {},
   "outputs": [],
   "source": [
    "x = y = z = \"Orange\"\n",
    "print(x)\n",
    "print(y)\n",
    "print(z)"
   ]
  },
  {
   "cell_type": "markdown",
   "id": "ff8e4611",
   "metadata": {},
   "source": [
    "#### Desempacar colecciones\n",
    "Si usted tiene una colección de valores en una lista o en una tuple, etc. Python permite extraer los valores a variables. Esto se llama desempaquetar."
   ]
  },
  {
   "cell_type": "code",
   "execution_count": null,
   "id": "401e05e8",
   "metadata": {},
   "outputs": [],
   "source": [
    "frutas = [\"manzana\", \"platano\", \"cereza\"]\n",
    "x, y, z = fruits\n",
    "print(x)\n",
    "print(y)\n",
    "print(z)"
   ]
  },
  {
   "cell_type": "markdown",
   "id": "5a55cf3d",
   "metadata": {},
   "source": [
    "### Salida de variables\n",
    "\n",
    "La función de Python para mostrar la salida de las variables frecuentemente es ``print()``\n",
    "\n",
    "Ejemplo:"
   ]
  },
  {
   "cell_type": "code",
   "execution_count": null,
   "id": "d365dd03",
   "metadata": {},
   "outputs": [],
   "source": [
    "x = \"Python is awesome\"\n",
    "print(x)"
   ]
  },
  {
   "cell_type": "markdown",
   "id": "d3dbe25a",
   "metadata": {},
   "source": [
    "La función ``print()`` permite imprimir multiples varaibles separadas por una coma.\n",
    "\n",
    "Ejemplo:"
   ]
  },
  {
   "cell_type": "code",
   "execution_count": null,
   "id": "d81d082a",
   "metadata": {},
   "outputs": [],
   "source": [
    "x = \"Python\"\n",
    "y = \"is\"\n",
    "z = \"awesome\"\n",
    "print(x, y, z)"
   ]
  },
  {
   "cell_type": "markdown",
   "id": "b55914a7",
   "metadata": {},
   "source": [
    "También puede hacerlo con el operador ``+``"
   ]
  },
  {
   "cell_type": "code",
   "execution_count": null,
   "id": "176013b9",
   "metadata": {},
   "outputs": [],
   "source": [
    "x = \"Python \"\n",
    "y = \"is \"\n",
    "z = \"awesome\"\n",
    "print(x + y + z)"
   ]
  },
  {
   "cell_type": "markdown",
   "id": "8bb1a4ce",
   "metadata": {},
   "source": [
    "Para números el ``+`` funciona como un operador matemático"
   ]
  },
  {
   "cell_type": "code",
   "execution_count": null,
   "id": "1c50d82c",
   "metadata": {},
   "outputs": [],
   "source": [
    "x = 5\n",
    "y = 10\n",
    "print(x + y)"
   ]
  },
  {
   "cell_type": "markdown",
   "id": "c218154d",
   "metadata": {},
   "source": [
    "Cuando use la función ``print()`` y usted trata de combinar un número con un string mediante el operador ``+``, Python puede dar un error, por ejemplo:"
   ]
  },
  {
   "cell_type": "code",
   "execution_count": null,
   "id": "1abbdac7",
   "metadata": {},
   "outputs": [],
   "source": [
    "x = 5\n",
    "y = \"John\"\n",
    "print(x + y)"
   ]
  }
 ],
 "metadata": {
  "kernelspec": {
   "display_name": "Python 3 (ipykernel)",
   "language": "python",
   "name": "python3"
  },
  "language_info": {
   "codemirror_mode": {
    "name": "ipython",
    "version": 3
   },
   "file_extension": ".py",
   "mimetype": "text/x-python",
   "name": "python",
   "nbconvert_exporter": "python",
   "pygments_lexer": "ipython3",
   "version": "3.9.12"
  }
 },
 "nbformat": 4,
 "nbformat_minor": 5
}
